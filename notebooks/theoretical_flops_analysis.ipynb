{
 "cells": [
  {
   "cell_type": "code",
   "execution_count": 4,
   "id": "f58c91c5-1f8d-457a-8949-676c28f856db",
   "metadata": {},
   "outputs": [],
   "source": [
    "import matplotlib.pyplot as plt\n",
    "import seaborn as sns\n",
    "import pandas as pd\n",
    "import math"
   ]
  },
  {
   "cell_type": "code",
   "execution_count": 12,
   "id": "573bcb7a-5188-4057-86c1-85eaaadb25d2",
   "metadata": {},
   "outputs": [],
   "source": [
    "def mha_flops_formula(n, h = 12, d=768):\n",
    "    # 8 * L * d^2 + 4 * L^2 * d - 4 * L * d + h * L^2\n",
    "    result = (8 * n * math.pow(d, 2)) + (4 * math.pow(n, 2) * d) - (4 * n * d ) + (h * math.pow(n, 2))\n",
    "    return result\n",
    "\n",
    "def ffnn_flops_formula(n, d=768):\n",
    "    # 16 * L * d^2 - L * d\n",
    "    result = ( 16 * n * math.pow(d, 2) ) - (n * d)\n",
    "    return result"
   ]
  },
  {
   "cell_type": "code",
   "execution_count": 6,
   "id": "ad943328-1d89-43dc-832d-ae7f78957f0c",
   "metadata": {},
   "outputs": [],
   "source": [
    "exp = [i+1 for i in range(9)]"
   ]
  },
  {
   "cell_type": "code",
   "execution_count": 7,
   "id": "aa64c5ed-94a3-4bd3-8b5d-25fd33bea425",
   "metadata": {},
   "outputs": [],
   "source": [
    "seq_lens = [math.pow(2, e) for e in exp]\n",
    "#seq_lens = [i for i in range(2, 512, 2)]"
   ]
  },
  {
   "cell_type": "code",
   "execution_count": 13,
   "id": "4624f664-7454-484f-aba8-a451aba87d5f",
   "metadata": {},
   "outputs": [],
   "source": [
    "hidden_dim = 768\n",
    "l = 1\n",
    "h = 12"
   ]
  },
  {
   "cell_type": "code",
   "execution_count": 9,
   "id": "bcbdcb5d-4812-4c32-b4a6-28751a504df7",
   "metadata": {},
   "outputs": [],
   "source": [
    "mha_flops, ffn_flops = [], []"
   ]
  },
  {
   "cell_type": "code",
   "execution_count": 14,
   "id": "8ee0ce93-b586-4f18-8d42-006a753858f4",
   "metadata": {},
   "outputs": [],
   "source": [
    "for seq in seq_lens:\n",
    "    mha_flops_count = mha_flops_formula(n=int(seq), d=hidden_dim, h=h)\n",
    "    mha_flops.append(mha_flops_count)\n",
    "    ffn_flops_count = ffnn_flops_formula(n=int(seq), d=hidden_dim)\n",
    "    ffn_flops.append(ffn_flops_count)"
   ]
  },
  {
   "cell_type": "code",
   "execution_count": 15,
   "id": "433ae59f-3fc1-4753-95fb-66128f919f1e",
   "metadata": {},
   "outputs": [],
   "source": [
    "mha = pd.DataFrame({\"FLOPs\": mha_flops, \"Sequence Length\": seq_lens, \"Layer\": [\"MHA\" for _ in range(len(seq_lens))]})\n",
    "ffn = pd.DataFrame({\"FLOPs\": ffn_flops, \"Sequence Length\": seq_lens, \"Layer\": [\"FFNN\" for _ in range(len(seq_lens))]})"
   ]
  },
  {
   "cell_type": "code",
   "execution_count": 16,
   "id": "0cbd24f9-441d-4ade-af46-5d56dbdab1c1",
   "metadata": {},
   "outputs": [],
   "source": [
    "data = pd.concat([mha, ffn], axis=0)"
   ]
  },
  {
   "cell_type": "code",
   "execution_count": 17,
   "id": "5ef455fd-eb64-4942-a28a-1805bb462a71",
   "metadata": {},
   "outputs": [
    {
     "data": {
      "text/html": [
       "<div>\n",
       "<style scoped>\n",
       "    .dataframe tbody tr th:only-of-type {\n",
       "        vertical-align: middle;\n",
       "    }\n",
       "\n",
       "    .dataframe tbody tr th {\n",
       "        vertical-align: top;\n",
       "    }\n",
       "\n",
       "    .dataframe thead th {\n",
       "        text-align: right;\n",
       "    }\n",
       "</style>\n",
       "<table border=\"1\" class=\"dataframe\">\n",
       "  <thead>\n",
       "    <tr style=\"text-align: right;\">\n",
       "      <th></th>\n",
       "      <th>FLOPs</th>\n",
       "      <th>Sequence Length</th>\n",
       "      <th>Layer</th>\n",
       "    </tr>\n",
       "  </thead>\n",
       "  <tbody>\n",
       "    <tr>\n",
       "      <th>0</th>\n",
       "      <td>9.443376e+06</td>\n",
       "      <td>2.0</td>\n",
       "      <td>MHA</td>\n",
       "    </tr>\n",
       "    <tr>\n",
       "      <th>1</th>\n",
       "      <td>1.891142e+07</td>\n",
       "      <td>4.0</td>\n",
       "      <td>MHA</td>\n",
       "    </tr>\n",
       "    <tr>\n",
       "      <th>2</th>\n",
       "      <td>3.792154e+07</td>\n",
       "      <td>8.0</td>\n",
       "      <td>MHA</td>\n",
       "    </tr>\n",
       "    <tr>\n",
       "      <th>3</th>\n",
       "      <td>7.623782e+07</td>\n",
       "      <td>16.0</td>\n",
       "      <td>MHA</td>\n",
       "    </tr>\n",
       "    <tr>\n",
       "      <th>4</th>\n",
       "      <td>1.540547e+08</td>\n",
       "      <td>32.0</td>\n",
       "      <td>MHA</td>\n",
       "    </tr>\n",
       "    <tr>\n",
       "      <th>5</th>\n",
       "      <td>3.144253e+08</td>\n",
       "      <td>64.0</td>\n",
       "      <td>MHA</td>\n",
       "    </tr>\n",
       "    <tr>\n",
       "      <th>6</th>\n",
       "      <td>6.541148e+08</td>\n",
       "      <td>128.0</td>\n",
       "      <td>MHA</td>\n",
       "    </tr>\n",
       "    <tr>\n",
       "      <th>7</th>\n",
       "      <td>1.409286e+09</td>\n",
       "      <td>256.0</td>\n",
       "      <td>MHA</td>\n",
       "    </tr>\n",
       "    <tr>\n",
       "      <th>8</th>\n",
       "      <td>3.222798e+09</td>\n",
       "      <td>512.0</td>\n",
       "      <td>MHA</td>\n",
       "    </tr>\n",
       "    <tr>\n",
       "      <th>0</th>\n",
       "      <td>1.887283e+07</td>\n",
       "      <td>2.0</td>\n",
       "      <td>FFNN</td>\n",
       "    </tr>\n",
       "    <tr>\n",
       "      <th>1</th>\n",
       "      <td>3.774566e+07</td>\n",
       "      <td>4.0</td>\n",
       "      <td>FFNN</td>\n",
       "    </tr>\n",
       "    <tr>\n",
       "      <th>2</th>\n",
       "      <td>7.549133e+07</td>\n",
       "      <td>8.0</td>\n",
       "      <td>FFNN</td>\n",
       "    </tr>\n",
       "    <tr>\n",
       "      <th>3</th>\n",
       "      <td>1.509827e+08</td>\n",
       "      <td>16.0</td>\n",
       "      <td>FFNN</td>\n",
       "    </tr>\n",
       "    <tr>\n",
       "      <th>4</th>\n",
       "      <td>3.019653e+08</td>\n",
       "      <td>32.0</td>\n",
       "      <td>FFNN</td>\n",
       "    </tr>\n",
       "    <tr>\n",
       "      <th>5</th>\n",
       "      <td>6.039306e+08</td>\n",
       "      <td>64.0</td>\n",
       "      <td>FFNN</td>\n",
       "    </tr>\n",
       "    <tr>\n",
       "      <th>6</th>\n",
       "      <td>1.207861e+09</td>\n",
       "      <td>128.0</td>\n",
       "      <td>FFNN</td>\n",
       "    </tr>\n",
       "    <tr>\n",
       "      <th>7</th>\n",
       "      <td>2.415722e+09</td>\n",
       "      <td>256.0</td>\n",
       "      <td>FFNN</td>\n",
       "    </tr>\n",
       "    <tr>\n",
       "      <th>8</th>\n",
       "      <td>4.831445e+09</td>\n",
       "      <td>512.0</td>\n",
       "      <td>FFNN</td>\n",
       "    </tr>\n",
       "  </tbody>\n",
       "</table>\n",
       "</div>"
      ],
      "text/plain": [
       "          FLOPs  Sequence Length Layer\n",
       "0  9.443376e+06              2.0   MHA\n",
       "1  1.891142e+07              4.0   MHA\n",
       "2  3.792154e+07              8.0   MHA\n",
       "3  7.623782e+07             16.0   MHA\n",
       "4  1.540547e+08             32.0   MHA\n",
       "5  3.144253e+08             64.0   MHA\n",
       "6  6.541148e+08            128.0   MHA\n",
       "7  1.409286e+09            256.0   MHA\n",
       "8  3.222798e+09            512.0   MHA\n",
       "0  1.887283e+07              2.0  FFNN\n",
       "1  3.774566e+07              4.0  FFNN\n",
       "2  7.549133e+07              8.0  FFNN\n",
       "3  1.509827e+08             16.0  FFNN\n",
       "4  3.019653e+08             32.0  FFNN\n",
       "5  6.039306e+08             64.0  FFNN\n",
       "6  1.207861e+09            128.0  FFNN\n",
       "7  2.415722e+09            256.0  FFNN\n",
       "8  4.831445e+09            512.0  FFNN"
      ]
     },
     "execution_count": 17,
     "metadata": {},
     "output_type": "execute_result"
    }
   ],
   "source": [
    "data"
   ]
  },
  {
   "cell_type": "code",
   "execution_count": 18,
   "id": "c3dd9e6d-0ac5-4f26-a9b5-70d33a2fbfe1",
   "metadata": {},
   "outputs": [],
   "source": [
    "X = \"Sequence Length\"\n",
    "Y = \"FLOPs\""
   ]
  },
  {
   "cell_type": "code",
   "execution_count": 19,
   "id": "e50b7b25-bd8a-4d8e-b77c-27045486c064",
   "metadata": {},
   "outputs": [
    {
     "data": {
      "image/png": "[encoded data removed]",
      "text/plain": [
       "<Figure size 400x300 with 1 Axes>"
      ]
     },
     "metadata": {},
     "output_type": "display_data"
    }
   ],
   "source": [
    "#sns.set_style(\"whitegrid\", {'grid.linestyle': '--'})\n",
    "plt.figure(figsize=(4, 3))\n",
    "ax = sns.lineplot(data=data,\n",
    "                  x=X, \n",
    "                  y=Y, \n",
    "                  hue=\"Layer\", \n",
    "                  markers={\"MHA\": \"X\", \"FFNN\": \"s\"}, \n",
    "                  dashes=False, \n",
    "                  style=\"Layer\",\n",
    "                  palette = {\"MHA\": \"goldenrod\", \"FFNN\": \"darkcyan\"},\n",
    "                  markeredgecolor=\"black\",\n",
    "                  markeredgewidth=0.3)\n",
    "plt.grid(linestyle='--', linewidth='0.5', alpha=0.5)\n",
    "legend = ax.legend()\n",
    "ax.spines['bottom'].set_color('black')\n",
    "ax.spines['left'].set_color('black')\n",
    "ax.spines['top'].set_visible(False)\n",
    "ax.spines['right'].set_visible(False)\n",
    "legend.get_frame().set_linewidth(0.5)\n",
    "for text in legend.get_texts():\n",
    "    text.set_color('black')\n",
    "    text.set_fontsize(14)\n",
    "for line in ax.lines:\n",
    "    line.set_markersize(6) \n",
    "ax.set_xlabel('Sequence Length', fontsize=14)\n",
    "ax.set_ylabel('FLOPS', fontsize=14)\n",
    "ax.tick_params(axis='both', which='major', labelsize=12)\n",
    "plt.tight_layout()\n",
    "#plt.savefig(\"./mha_ffn_flos_comparison.pdf\")"
   ]
  },
  {
   "cell_type": "code",
   "execution_count": null,
   "id": "99db4e09-7942-4bf5-89c4-69d47e76d9dd",
   "metadata": {},
   "outputs": [],
   "source": []
  }
 ],
 "metadata": {
  "kernelspec": {
   "display_name": "Python 3 (ipykernel)",
   "language": "python",
   "name": "python3"
  },
  "language_info": {
   "codemirror_mode": {
    "name": "ipython",
    "version": 3
   },
   "file_extension": ".py",
   "mimetype": "text/x-python",
   "name": "python",
   "nbconvert_exporter": "python",
   "pygments_lexer": "ipython3",
   "version": "3.9.6"
  }
 },
 "nbformat": 4,
 "nbformat_minor": 5
}
